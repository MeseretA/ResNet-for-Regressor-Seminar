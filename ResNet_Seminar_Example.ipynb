{
  "nbformat": 4,
  "nbformat_minor": 0,
  "metadata": {
    "colab": {
      "name": "ResNet-Seminar-Example.ipynb",
      "provenance": [],
      "collapsed_sections": [],
      "mount_file_id": "1-ASR7LVcadIihW3YPGEItN-5qKFPZlsf",
      "authorship_tag": "ABX9TyMfZ+c1M9RdoCWmNutGONgj",
      "include_colab_link": true
    },
    "kernelspec": {
      "name": "python3",
      "display_name": "Python 3"
    },
    "language_info": {
      "name": "python"
    }
  },
  "cells": [
    {
      "cell_type": "markdown",
      "metadata": {
        "id": "view-in-github",
        "colab_type": "text"
      },
      "source": [
        "<a href=\"https://colab.research.google.com/github/MeseretA/ResNet-for-Regressor-Seminar/blob/main/ResNet_Seminar_Example.ipynb\" target=\"_parent\"><img src=\"https://colab.research.google.com/assets/colab-badge.svg\" alt=\"Open In Colab\"/></a>"
      ]
    },
    {
      "cell_type": "markdown",
      "metadata": {
        "id": "Dy5f5KkuAW-V"
      },
      "source": [
        "# ResNET\n",
        "Since ResNET is originally created for image recognition, its residual block uses Conv3D layers and pooling layers.\n",
        "In order to use ResNET for regression problems, we need to replace each block layers with Conv1D and 1 dimensional pooling. In addition to that, we need to modify the output layer activation function, which is usually `linear` for regression.\n",
        "# 1 Dimensional Convolution (Conv1D) for Regression\n",
        "In regression problem, we aim to predict the output of a continuous value. Typically, data for regression problem is in the shape of `[batch_size, features]`. However, Conv1D layer expects input shape in 3D as `[batch_size, time_steps, input_dimension]`. Thus, we need to reshape our data sets."
      ]
    },
    {
      "cell_type": "code",
      "metadata": {
        "colab": {
          "base_uri": "https://localhost:8080/"
        },
        "id": "0pulycXpI8mC",
        "outputId": "e8ab6e24-4b0f-403c-e391-094cd99974af"
      },
      "source": [
        "!pip install tensorflow_addons"
      ],
      "execution_count": 137,
      "outputs": [
        {
          "output_type": "stream",
          "text": [
            "Requirement already satisfied: tensorflow_addons in /usr/local/lib/python3.7/dist-packages (0.14.0)\n",
            "Requirement already satisfied: typeguard>=2.7 in /usr/local/lib/python3.7/dist-packages (from tensorflow_addons) (2.7.1)\n"
          ],
          "name": "stdout"
        }
      ]
    },
    {
      "cell_type": "code",
      "metadata": {
        "colab": {
          "base_uri": "https://localhost:8080/"
        },
        "id": "i0FFFMe4B8O8",
        "outputId": "915bbd2b-81cb-4683-b788-7516689a8652"
      },
      "source": [
        "import os\n",
        "import pandas as pd\n",
        "import numpy as np\n",
        "import IPython\n",
        "import IPython.display\n",
        "import matplotlib as mpl\n",
        "import matplotlib.pyplot as plt\n",
        "import seaborn as sns\n",
        "import tensorflow as tf\n",
        "\n",
        "import math\n",
        "\n",
        "import tensorflow.keras as keras\n",
        "import time\n",
        "\n",
        "from sklearn.utils import shuffle\n",
        "\n",
        "from sklearn.model_selection import train_test_split\n",
        "\n",
        "\n",
        "import tensorflow_addons as tfa\n",
        "\n",
        "mpl.rcParams['figure.figsize'] = (8, 6)\n",
        "mpl.rcParams['axes.grid'] = False\n",
        "\n",
        "from google.colab import drive\n",
        "drive.mount('/content/drive')\n",
        "\n",
        "# Importing the training set\n",
        "dataset_train = pd.read_csv(\"/content/drive/MyDrive/TestDataWithPose.csv\", header= None)"
      ],
      "execution_count": 138,
      "outputs": [
        {
          "output_type": "stream",
          "text": [
            "Drive already mounted at /content/drive; to attempt to forcibly remount, call drive.mount(\"/content/drive\", force_remount=True).\n"
          ],
          "name": "stdout"
        }
      ]
    },
    {
      "cell_type": "code",
      "metadata": {
        "colab": {
          "base_uri": "https://localhost:8080/",
          "height": 206
        },
        "id": "nMzhUjcBCKgH",
        "outputId": "b63c537e-1d31-407d-ddea-357f030c26ba"
      },
      "source": [
        "dataset_train.head()"
      ],
      "execution_count": 139,
      "outputs": [
        {
          "output_type": "execute_result",
          "data": {
            "text/html": [
              "<div>\n",
              "<style scoped>\n",
              "    .dataframe tbody tr th:only-of-type {\n",
              "        vertical-align: middle;\n",
              "    }\n",
              "\n",
              "    .dataframe tbody tr th {\n",
              "        vertical-align: top;\n",
              "    }\n",
              "\n",
              "    .dataframe thead th {\n",
              "        text-align: right;\n",
              "    }\n",
              "</style>\n",
              "<table border=\"1\" class=\"dataframe\">\n",
              "  <thead>\n",
              "    <tr style=\"text-align: right;\">\n",
              "      <th></th>\n",
              "      <th>0</th>\n",
              "      <th>1</th>\n",
              "      <th>2</th>\n",
              "    </tr>\n",
              "  </thead>\n",
              "  <tbody>\n",
              "    <tr>\n",
              "      <th>0</th>\n",
              "      <td>-0.000499</td>\n",
              "      <td>-0.000043</td>\n",
              "      <td>-0.011229</td>\n",
              "    </tr>\n",
              "    <tr>\n",
              "      <th>1</th>\n",
              "      <td>-0.000998</td>\n",
              "      <td>-0.000084</td>\n",
              "      <td>-0.022465</td>\n",
              "    </tr>\n",
              "    <tr>\n",
              "      <th>2</th>\n",
              "      <td>-0.001497</td>\n",
              "      <td>-0.000124</td>\n",
              "      <td>-0.034352</td>\n",
              "    </tr>\n",
              "    <tr>\n",
              "      <th>3</th>\n",
              "      <td>-0.001996</td>\n",
              "      <td>-0.000162</td>\n",
              "      <td>-0.046893</td>\n",
              "    </tr>\n",
              "    <tr>\n",
              "      <th>4</th>\n",
              "      <td>-0.002495</td>\n",
              "      <td>-0.000201</td>\n",
              "      <td>-0.058781</td>\n",
              "    </tr>\n",
              "  </tbody>\n",
              "</table>\n",
              "</div>"
            ],
            "text/plain": [
              "          0         1         2\n",
              "0 -0.000499 -0.000043 -0.011229\n",
              "1 -0.000998 -0.000084 -0.022465\n",
              "2 -0.001497 -0.000124 -0.034352\n",
              "3 -0.001996 -0.000162 -0.046893\n",
              "4 -0.002495 -0.000201 -0.058781"
            ]
          },
          "metadata": {},
          "execution_count": 139
        }
      ]
    },
    {
      "cell_type": "code",
      "metadata": {
        "colab": {
          "base_uri": "https://localhost:8080/",
          "height": 358
        },
        "id": "vj5m2v9xCM_t",
        "outputId": "9d4de05a-0a82-4636-a686-ae4151b50818"
      },
      "source": [
        "plot_cols = [0, 1, 2]\n",
        "plot_features = dataset_train[plot_cols]\n",
        "_=plot_features.plot(subplots=True)"
      ],
      "execution_count": 140,
      "outputs": [
        {
          "output_type": "display_data",
          "data": {
            "image/png": "[encoded data removed]",
            "text/plain": [
              "<Figure size 576x432 with 3 Axes>"
            ]
          },
          "metadata": {
            "needs_background": "light"
          }
        }
      ]
    },
    {
      "cell_type": "code",
      "metadata": {
        "id": "HDPyApxxCRt8"
      },
      "source": [
        "column_indices = {name: i for i, name in enumerate(dataset_train.columns)}\n",
        "n = len(dataset_train)\n",
        "train_data = dataset_train[0:int(n*0.7)]\n",
        "val_data = dataset_train[int(n*0.7):int(n*0.9)]\n",
        "test_data = dataset_train[int(n*0.9):]\n",
        "\n",
        "num_features = dataset_train.shape[1]\n",
        "\n",
        "train_mean = train_data.mean()\n",
        "train_std = train_data.std()\n",
        "\n",
        "train_data = (train_data - train_mean)/train_std\n",
        "val_data = (val_data - train_mean)/train_std\n",
        "test_data = (test_data - train_mean)/train_std"
      ],
      "execution_count": 141,
      "outputs": []
    },
    {
      "cell_type": "code",
      "metadata": {
        "id": "b8da6W2DbdKu"
      },
      "source": [
        "# change ot numpy\n",
        "train_data = train_data.to_numpy()\n",
        "val_data = val_data.to_numpy()\n",
        "test_data = test_data.to_numpy()"
      ],
      "execution_count": 142,
      "outputs": []
    },
    {
      "cell_type": "markdown",
      "metadata": {
        "id": "kMIGzVCPIpb4"
      },
      "source": [
        "# Reshape Data sets\n",
        "Conv1D layer expects input shape in 3D as \n",
        "\n",
        "`[batch_size, time_steps, input_dimension]`\n",
        "\n",
        "However, current data is in the shape of\n",
        "\n",
        "`[batch_size, features]`\n",
        "\n",
        "**Basically, we will convert features to time steps**\n",
        "\n",
        "To convert 2D of input data into a 3D input, we simply `reshape` as follows:"
      ]
    },
    {
      "cell_type": "code",
      "metadata": {
        "id": "YcuZIoklaqGB"
      },
      "source": [
        "# Reshape to use Conv1D\n",
        "\n",
        "# training data\n",
        "sample_size_train = train_data.shape[0] # number of samples in train set\n",
        "time_steps_train = train_data.shape[1]  # number of features in train set\n",
        "input_dimension_train = 1               # each feature is represented by 1 number\n",
        "\n",
        "train_data_reshaped = train_data.reshape(sample_size_train, time_steps_train, input_dimension_train)\n",
        "\n",
        "# test data\n",
        "sample_size_test = test_data.shape[0] # number of samples in train set\n",
        "time_steps_test = test_data.shape[1]  # number of features in train set\n",
        "input_dimension_test = 1               # each feature is represented by 1 number\n",
        "\n",
        "test_data_reshaped = test_data.reshape(sample_size_test, time_steps_test, input_dimension_test)\n",
        "\n",
        "#validation data\n",
        "sample_size_val = val_data.shape[0] # number of samples in train set\n",
        "time_steps_val = val_data.shape[1]  # number of features in train set\n",
        "input_dimension_val = 1               # each feature is represented by 1 number\n",
        "\n",
        "val_data_reshaped = val_data.reshape(sample_size_val, time_steps_val, input_dimension_val)\n"
      ],
      "execution_count": 143,
      "outputs": []
    },
    {
      "cell_type": "code",
      "metadata": {
        "colab": {
          "base_uri": "https://localhost:8080/"
        },
        "id": "gYiVur8jcFU8",
        "outputId": "c10ed1e1-c52f-4b6b-dd01-5799a2e5c621"
      },
      "source": [
        "x_train = train_data_reshaped[:,:2,:]\n",
        "y_train = train_data_reshaped[:,2,:]\n",
        "x_test = test_data_reshaped[:,:2,:]\n",
        "y_test = test_data_reshaped[:,2,:]\n",
        "y_test.shape"
      ],
      "execution_count": 144,
      "outputs": [
        {
          "output_type": "execute_result",
          "data": {
            "text/plain": [
              "(10000, 1)"
            ]
          },
          "metadata": {},
          "execution_count": 144
        }
      ]
    },
    {
      "cell_type": "code",
      "metadata": {
        "colab": {
          "base_uri": "https://localhost:8080/"
        },
        "id": "S2UZX06VewHP",
        "outputId": "a69badda-f18a-45a0-dbb0-7bdc67c3d7bb"
      },
      "source": [
        "input_shape = x_train.shape[1:]\n",
        "input_shape"
      ],
      "execution_count": 145,
      "outputs": [
        {
          "output_type": "execute_result",
          "data": {
            "text/plain": [
              "(2, 1)"
            ]
          },
          "metadata": {},
          "execution_count": 145
        }
      ]
    },
    {
      "cell_type": "code",
      "metadata": {
        "id": "0bDWNIKFEOji"
      },
      "source": [
        "import sklearn\n",
        "from sklearn.metrics import accuracy_score\n",
        "from sklearn.metrics import precision_score\n",
        "from sklearn.metrics import recall_score\n",
        "def calculate_metrics(y_true, y_pred, duration, y_true_val=None, y_pred_val=None):\n",
        "    res = pd.DataFrame(data=np.zeros((1, 4), dtype=np.float), index=[0],\n",
        "                       columns=['precision', 'accuracy', 'recall', 'duration'])\n",
        "    res['precision'] = precision_score(y_true, y_pred, average='macro')\n",
        "    res['accuracy'] = accuracy_score(y_true, y_pred)\n",
        "\n",
        "    if not y_true_val is None:\n",
        "        # this is useful when transfer learning is used with cross validation\n",
        "        res['accuracy_val'] = accuracy_score(y_true_val, y_pred_val)\n",
        "\n",
        "    res['recall'] = recall_score(y_true, y_pred, average='macro')\n",
        "    res['duration'] = duration\n",
        "    return res"
      ],
      "execution_count": 146,
      "outputs": []
    },
    {
      "cell_type": "code",
      "metadata": {
        "id": "UfPZ699MOdmI"
      },
      "source": [
        "def plot_epochs_metric(hist, file_name, metric='loss'):\n",
        "    plt.figure()\n",
        "    plt.plot(hist.history[metric])\n",
        "    plt.plot(hist.history['val_' + metric])\n",
        "    plt.title('model ' + metric)\n",
        "    plt.ylabel(metric, fontsize='large')\n",
        "    plt.xlabel('epoch', fontsize='large')\n",
        "    plt.legend(['train', 'val'], loc='upper left')\n",
        "    plt.savefig(file_name, bbox_inches='tight')\n",
        "    plt.close()"
      ],
      "execution_count": 147,
      "outputs": []
    },
    {
      "cell_type": "code",
      "metadata": {
        "id": "IseqGA_V4Oco"
      },
      "source": [
        "def save_test_duration(file_name, test_duration):\n",
        "    res = pd.DataFrame(data=np.zeros((1, 1), dtype=np.float), index=[0],\n",
        "                       columns=['test_duration'])\n",
        "    res['test_duration'] = test_duration\n",
        "    res.to_csv(file_name, index=False)"
      ],
      "execution_count": 148,
      "outputs": []
    },
    {
      "cell_type": "code",
      "metadata": {
        "id": "re9hV7HkEuzu"
      },
      "source": [
        "def save_logs(output_directory, hist, y_pred, y_true, duration, lr=False, y_true_val=None, y_pred_val=None):\n",
        "    hist_df = pd.DataFrame(hist.history)\n",
        "    hist_df.to_csv(output_directory + 'history.csv', index=False)\n",
        "\n",
        "    #df_metrics = calculate_metrics(y_true, y_pred, duration, y_true_val, y_pred_val)\n",
        "    #df_metrics.to_csv(output_directory + 'df_metrics.csv', index=False)\n",
        "\n",
        "    index_best_model = hist_df['loss'].idxmin()\n",
        "    row_best_model = hist_df.loc[index_best_model]\n",
        "\n",
        "    df_best_model = pd.DataFrame(data=np.zeros((1, 6), dtype=np.float), index=[0],\n",
        "                                 columns=['best_model_train_loss', 'best_model_val_loss', 'best_model_train_acc',\n",
        "                                          'best_model_val_acc', 'best_model_learning_rate', 'best_model_nb_epoch'])\n",
        "\n",
        "    df_best_model['best_model_train_loss'] = row_best_model['loss']\n",
        "    df_best_model['best_model_val_loss'] = row_best_model['val_loss']\n",
        "    df_best_model['best_model_train_acc'] = row_best_model['mse']\n",
        "    df_best_model['best_model_val_acc'] = row_best_model['val_mse']\n",
        "    if lr == True:\n",
        "        df_best_model['best_model_learning_rate'] = row_best_model['lr']\n",
        "    df_best_model['best_model_nb_epoch'] = index_best_model\n",
        "\n",
        "    df_best_model.to_csv(output_directory + 'df_best_model.csv', index=False)\n",
        "\n",
        "    # for FCN there is no hyperparameters fine tuning - everything is static in code\n",
        "\n",
        "    # plot losses\n",
        "    plot_epochs_metric(hist, output_directory + 'epochs_loss.png')\n"
      ],
      "execution_count": 149,
      "outputs": []
    },
    {
      "cell_type": "code",
      "metadata": {
        "id": "PaXYcZiovodm"
      },
      "source": [
        "\n",
        "class Regressor_RESNET():\n",
        "\n",
        "    def __init__(self, output_directory, input_shape, nb_classes, verbose=False, build=True, load_weights=False):\n",
        "        self.output_directory = output_directory\n",
        "        if build == True:\n",
        "            self.model = self.build_model(input_shape, nb_classes)\n",
        "            if (verbose == True):\n",
        "                self.model.summary()\n",
        "            self.verbose = verbose\n",
        "            if load_weights == True:\n",
        "                self.model.load_weights(self.output_directory\n",
        "                                        .replace('resnet_augment', 'resnet')\n",
        "                                        .replace('Fric_itr_augment_x_10', 'Fric_itr_10')\n",
        "                                        + '/model_init.hdf5')\n",
        "            else:\n",
        "                self.model.save_weights(self.output_directory + 'model_init.hdf5')\n",
        "        return\n",
        "\n",
        "    def build_model(self, input_shape, nb_classes):\n",
        "        n_feature_maps = 64\n",
        "\n",
        "        input_layer = keras.layers.Input(input_shape)\n",
        "\n",
        "        # BLOCK 1\n",
        "\n",
        "        conv_x = keras.layers.Conv1D(filters=n_feature_maps, kernel_size=8, padding='same')(input_layer)\n",
        "        conv_x = keras.layers.BatchNormalization()(conv_x)\n",
        "        conv_x = keras.layers.Activation('relu')(conv_x)\n",
        "\n",
        "        conv_y = keras.layers.Conv1D(filters=n_feature_maps, kernel_size=5, padding='same')(conv_x)\n",
        "        conv_y = keras.layers.BatchNormalization()(conv_y)\n",
        "        conv_y = keras.layers.Activation('relu')(conv_y)\n",
        "\n",
        "        conv_z = keras.layers.Conv1D(filters=n_feature_maps, kernel_size=3, padding='same')(conv_y)\n",
        "        conv_z = keras.layers.BatchNormalization()(conv_z)\n",
        "\n",
        "        # expand channels for the sum\n",
        "        shortcut_y = keras.layers.Conv1D(filters=n_feature_maps, kernel_size=1, padding='same')(input_layer)\n",
        "        shortcut_y = keras.layers.BatchNormalization()(shortcut_y)\n",
        "\n",
        "        output_block_1 = keras.layers.add([shortcut_y, conv_z])\n",
        "        output_block_1 = keras.layers.Activation('relu')(output_block_1)\n",
        "\n",
        "        # BLOCK 2\n",
        "\n",
        "        conv_x = keras.layers.Conv1D(filters=n_feature_maps * 2, kernel_size=8, padding='same')(output_block_1)\n",
        "        conv_x = keras.layers.BatchNormalization()(conv_x)\n",
        "        conv_x = keras.layers.Activation('relu')(conv_x)\n",
        "\n",
        "        conv_y = keras.layers.Conv1D(filters=n_feature_maps * 2, kernel_size=5, padding='same')(conv_x)\n",
        "        conv_y = keras.layers.BatchNormalization()(conv_y)\n",
        "        conv_y = keras.layers.Activation('relu')(conv_y)\n",
        "\n",
        "        conv_z = keras.layers.Conv1D(filters=n_feature_maps * 2, kernel_size=3, padding='same')(conv_y)\n",
        "        conv_z = keras.layers.BatchNormalization()(conv_z)\n",
        "\n",
        "        # expand channels for the sum\n",
        "        shortcut_y = keras.layers.Conv1D(filters=n_feature_maps * 2, kernel_size=1, padding='same')(output_block_1)\n",
        "        shortcut_y = keras.layers.BatchNormalization()(shortcut_y)\n",
        "\n",
        "        output_block_2 = keras.layers.add([shortcut_y, conv_z])\n",
        "        output_block_2 = keras.layers.Activation('relu')(output_block_2)\n",
        "\n",
        "        # BLOCK 3\n",
        "\n",
        "        conv_x = keras.layers.Conv1D(filters=n_feature_maps * 2, kernel_size=8, padding='same')(output_block_2)\n",
        "        conv_x = keras.layers.BatchNormalization()(conv_x)\n",
        "        conv_x = keras.layers.Activation('relu')(conv_x)\n",
        "\n",
        "        conv_y = keras.layers.Conv1D(filters=n_feature_maps * 2, kernel_size=5, padding='same')(conv_x)\n",
        "        conv_y = keras.layers.BatchNormalization()(conv_y)\n",
        "        conv_y = keras.layers.Activation('relu')(conv_y)\n",
        "\n",
        "        conv_z = keras.layers.Conv1D(filters=n_feature_maps * 2, kernel_size=3, padding='same')(conv_y)\n",
        "        conv_z = keras.layers.BatchNormalization()(conv_z)\n",
        "\n",
        "        # no need to expand channels because they are equal\n",
        "        shortcut_y = keras.layers.BatchNormalization()(output_block_2)\n",
        "\n",
        "        output_block_3 = keras.layers.add([shortcut_y, conv_z])\n",
        "        output_block_3 = keras.layers.Activation('relu')(output_block_3)\n",
        "\n",
        "        # FINAL\n",
        "\n",
        "        gap_layer = keras.layers.BatchNormalization()(output_block_3)\n",
        "\n",
        "        #output_layer = keras.layers.Dense(nb_classes, activation='softmax')(gap_layer)\n",
        "        output_layer = keras.layers.Dense(1, activation='linear')(gap_layer)        \n",
        "\n",
        "        model = keras.models.Model(inputs=input_layer, outputs=output_layer)\n",
        "\n",
        "        #model.compile(loss='categorical_crossentropy', optimizer=keras.optimizers.Adam(),\n",
        "        #              metrics=['accuracy'])\n",
        "        model.compile(loss='mse', optimizer=keras.optimizers.Adam(),\n",
        "                      metrics=['mse'])\n",
        "\n",
        "        reduce_lr = keras.callbacks.ReduceLROnPlateau(monitor='loss', factor=0.5, patience=50, min_lr=0.0001)\n",
        "        #history = model.fit(X_train, y_train, epochs=50, batch_size=5000, verbose=2, callbacks=[callbacks.EarlyStopping(monitor='val_loss', patience=10,verbose=2, mode='auto')], validation_split=0.1)\n",
        "        early_stoping = keras.callbacks.EarlyStopping(monitor='val_loss', patience=10,verbose=2, mode='auto')\n",
        "        file_path = self.output_directory + 'best_model.hdf5'\n",
        "\n",
        "        model_checkpoint = keras.callbacks.ModelCheckpoint(filepath=file_path, monitor='loss',\n",
        "                                                           save_best_only=True)\n",
        "\n",
        "        self.callbacks = [reduce_lr, model_checkpoint, early_stoping]\n",
        "\n",
        "        return model\n",
        "\n",
        "    def fit(self, x_train, y_train, x_val, y_val, y_true):\n",
        "        if not tf.test.is_gpu_available:\n",
        "            print('error')\n",
        "            exit()\n",
        "        # x_val and y_val are only used to monitor the test loss and NOT for training\n",
        "        batch_size = 64\n",
        "        nb_epochs = 40#800 #1500\n",
        "\n",
        "        mini_batch_size = int(min(x_train.shape[0] / 10, batch_size))\n",
        "\n",
        "        start_time = time.time()\n",
        "\n",
        "        hist = self.model.fit(x_train, y_train, batch_size=mini_batch_size, epochs=nb_epochs,\n",
        "                              verbose=self.verbose, validation_data=(x_val, y_val), callbacks=self.callbacks)\n",
        "\n",
        "        duration = time.time() - start_time\n",
        "\n",
        "        self.model.save(self.output_directory + 'last_model.hdf5')\n",
        "\n",
        "        y_pred = self.predict(x_val, y_true, x_train, y_train, y_val,\n",
        "                              return_df_metrics=False)\n",
        "\n",
        "        # save predictions\n",
        "        np.save(self.output_directory + 'y_pred.npy', y_pred)\n",
        "\n",
        "        # convert the predicted from binary to integer\n",
        "        #y_pred = np.argmax(y_pred, axis=1)\n",
        "\n",
        "        save_logs(self.output_directory, hist, y_pred, y_true, duration)\n",
        "\n",
        "        keras.backend.clear_session()\n",
        "\n",
        "        return hist\n",
        "\n",
        "    def predict(self, x_test, y_true, x_train, y_train, y_test, return_df_metrics=False):\n",
        "        start_time = time.time()\n",
        "        model_path = self.output_directory + 'best_model.hdf5'\n",
        "        model = keras.models.load_model(model_path)\n",
        "        y_pred = model.predict(x_test)\n",
        "        if return_df_metrics:\n",
        "            #y_pred = np.argmax(y_pred, axis=1)\n",
        "            df_metrics = calculate_metrics(y_true, y_pred, 0.0)\n",
        "            return df_metrics\n",
        "        else:\n",
        "            test_duration = time.time() - start_time\n",
        "            save_test_duration(self.output_directory + 'test_duration.csv', test_duration)\n",
        "            return y_pred"
      ],
      "execution_count": 150,
      "outputs": []
    },
    {
      "cell_type": "markdown",
      "metadata": {
        "id": "wFaIwCucHS_F"
      },
      "source": [
        "# Train the model\n",
        "The model is trained for 40 epochs"
      ]
    },
    {
      "cell_type": "code",
      "metadata": {
        "colab": {
          "base_uri": "https://localhost:8080/"
        },
        "id": "iLhtPFs5Fy73",
        "outputId": "4ab269ed-2fd4-45b4-bbb0-b7d9ef16897a"
      },
      "source": [
        "output_directory =   '/content/drive/MyDrive/Colab Notebooks/Seminar'  # Change to your directory\n",
        "classifier = Regressor_RESNET(output_directory, input_shape, 1, verbose=True)\n",
        "hist = classifier.fit(x_train, y_train, x_test, y_test, y_test)"
      ],
      "execution_count": 151,
      "outputs": [
        {
          "output_type": "stream",
          "text": [
            "Model: \"model\"\n",
            "__________________________________________________________________________________________________\n",
            "Layer (type)                    Output Shape         Param #     Connected to                     \n",
            "==================================================================================================\n",
            "input_1 (InputLayer)            [(None, 2, 1)]       0                                            \n",
            "__________________________________________________________________________________________________\n",
            "conv1d (Conv1D)                 (None, 2, 64)        576         input_1[0][0]                    \n",
            "__________________________________________________________________________________________________\n",
            "batch_normalization (BatchNorma (None, 2, 64)        256         conv1d[0][0]                     \n",
            "__________________________________________________________________________________________________\n",
            "activation (Activation)         (None, 2, 64)        0           batch_normalization[0][0]        \n",
            "__________________________________________________________________________________________________\n",
            "conv1d_1 (Conv1D)               (None, 2, 64)        20544       activation[0][0]                 \n",
            "__________________________________________________________________________________________________\n",
            "batch_normalization_1 (BatchNor (None, 2, 64)        256         conv1d_1[0][0]                   \n",
            "__________________________________________________________________________________________________\n",
            "activation_1 (Activation)       (None, 2, 64)        0           batch_normalization_1[0][0]      \n",
            "__________________________________________________________________________________________________\n",
            "conv1d_3 (Conv1D)               (None, 2, 64)        128         input_1[0][0]                    \n",
            "__________________________________________________________________________________________________\n",
            "conv1d_2 (Conv1D)               (None, 2, 64)        12352       activation_1[0][0]               \n",
            "__________________________________________________________________________________________________\n",
            "batch_normalization_3 (BatchNor (None, 2, 64)        256         conv1d_3[0][0]                   \n",
            "__________________________________________________________________________________________________\n",
            "batch_normalization_2 (BatchNor (None, 2, 64)        256         conv1d_2[0][0]                   \n",
            "__________________________________________________________________________________________________\n",
            "add (Add)                       (None, 2, 64)        0           batch_normalization_3[0][0]      \n",
            "                                                                 batch_normalization_2[0][0]      \n",
            "__________________________________________________________________________________________________\n",
            "activation_2 (Activation)       (None, 2, 64)        0           add[0][0]                        \n",
            "__________________________________________________________________________________________________\n",
            "conv1d_4 (Conv1D)               (None, 2, 128)       65664       activation_2[0][0]               \n",
            "__________________________________________________________________________________________________\n",
            "batch_normalization_4 (BatchNor (None, 2, 128)       512         conv1d_4[0][0]                   \n",
            "__________________________________________________________________________________________________\n",
            "activation_3 (Activation)       (None, 2, 128)       0           batch_normalization_4[0][0]      \n",
            "__________________________________________________________________________________________________\n",
            "conv1d_5 (Conv1D)               (None, 2, 128)       82048       activation_3[0][0]               \n",
            "__________________________________________________________________________________________________\n",
            "batch_normalization_5 (BatchNor (None, 2, 128)       512         conv1d_5[0][0]                   \n",
            "__________________________________________________________________________________________________\n",
            "activation_4 (Activation)       (None, 2, 128)       0           batch_normalization_5[0][0]      \n",
            "__________________________________________________________________________________________________\n",
            "conv1d_7 (Conv1D)               (None, 2, 128)       8320        activation_2[0][0]               \n",
            "__________________________________________________________________________________________________\n",
            "conv1d_6 (Conv1D)               (None, 2, 128)       49280       activation_4[0][0]               \n",
            "__________________________________________________________________________________________________\n",
            "batch_normalization_7 (BatchNor (None, 2, 128)       512         conv1d_7[0][0]                   \n",
            "__________________________________________________________________________________________________\n",
            "batch_normalization_6 (BatchNor (None, 2, 128)       512         conv1d_6[0][0]                   \n",
            "__________________________________________________________________________________________________\n",
            "add_1 (Add)                     (None, 2, 128)       0           batch_normalization_7[0][0]      \n",
            "                                                                 batch_normalization_6[0][0]      \n",
            "__________________________________________________________________________________________________\n",
            "activation_5 (Activation)       (None, 2, 128)       0           add_1[0][0]                      \n",
            "__________________________________________________________________________________________________\n",
            "conv1d_8 (Conv1D)               (None, 2, 128)       131200      activation_5[0][0]               \n",
            "__________________________________________________________________________________________________\n",
            "batch_normalization_8 (BatchNor (None, 2, 128)       512         conv1d_8[0][0]                   \n",
            "__________________________________________________________________________________________________\n",
            "activation_6 (Activation)       (None, 2, 128)       0           batch_normalization_8[0][0]      \n",
            "__________________________________________________________________________________________________\n",
            "conv1d_9 (Conv1D)               (None, 2, 128)       82048       activation_6[0][0]               \n",
            "__________________________________________________________________________________________________\n",
            "batch_normalization_9 (BatchNor (None, 2, 128)       512         conv1d_9[0][0]                   \n",
            "__________________________________________________________________________________________________\n",
            "activation_7 (Activation)       (None, 2, 128)       0           batch_normalization_9[0][0]      \n",
            "__________________________________________________________________________________________________\n",
            "conv1d_10 (Conv1D)              (None, 2, 128)       49280       activation_7[0][0]               \n",
            "__________________________________________________________________________________________________\n",
            "batch_normalization_11 (BatchNo (None, 2, 128)       512         activation_5[0][0]               \n",
            "__________________________________________________________________________________________________\n",
            "batch_normalization_10 (BatchNo (None, 2, 128)       512         conv1d_10[0][0]                  \n",
            "__________________________________________________________________________________________________\n",
            "add_2 (Add)                     (None, 2, 128)       0           batch_normalization_11[0][0]     \n",
            "                                                                 batch_normalization_10[0][0]     \n",
            "__________________________________________________________________________________________________\n",
            "activation_8 (Activation)       (None, 2, 128)       0           add_2[0][0]                      \n",
            "__________________________________________________________________________________________________\n",
            "batch_normalization_12 (BatchNo (None, 2, 128)       512         activation_8[0][0]               \n",
            "__________________________________________________________________________________________________\n",
            "dense (Dense)                   (None, 2, 1)         129         batch_normalization_12[0][0]     \n",
            "==================================================================================================\n",
            "Total params: 507,201\n",
            "Trainable params: 504,385\n",
            "Non-trainable params: 2,816\n",
            "__________________________________________________________________________________________________\n",
            "Epoch 1/40\n",
            "1094/1094 [==============================] - 56s 47ms/step - loss: 0.0382 - mse: 0.0382 - val_loss: 0.0073 - val_mse: 0.0073\n"
          ],
          "name": "stdout"
        },
        {
          "output_type": "stream",
          "text": [
            "/usr/local/lib/python3.7/dist-packages/keras/utils/generic_utils.py:497: CustomMaskWarning: Custom mask layers require a config and must override get_config. When loading, the custom mask layer must be passed to the custom_objects argument.\n",
            "  category=CustomMaskWarning)\n"
          ],
          "name": "stderr"
        },
        {
          "output_type": "stream",
          "text": [
            "Epoch 2/40\n",
            "1094/1094 [==============================] - 51s 46ms/step - loss: 0.0231 - mse: 0.0231 - val_loss: 0.0081 - val_mse: 0.0081\n",
            "Epoch 3/40\n",
            "1094/1094 [==============================] - 51s 46ms/step - loss: 0.0220 - mse: 0.0220 - val_loss: 0.0130 - val_mse: 0.0130\n",
            "Epoch 4/40\n",
            "1094/1094 [==============================] - 51s 46ms/step - loss: 0.0214 - mse: 0.0214 - val_loss: 0.0091 - val_mse: 0.0091\n",
            "Epoch 5/40\n",
            "1094/1094 [==============================] - 51s 46ms/step - loss: 0.0223 - mse: 0.0223 - val_loss: 0.0066 - val_mse: 0.0066\n",
            "Epoch 6/40\n",
            "1094/1094 [==============================] - 51s 47ms/step - loss: 0.0213 - mse: 0.0213 - val_loss: 0.0043 - val_mse: 0.0043\n",
            "Epoch 7/40\n",
            "1094/1094 [==============================] - 51s 46ms/step - loss: 0.0199 - mse: 0.0199 - val_loss: 0.0070 - val_mse: 0.0070\n",
            "Epoch 8/40\n",
            "1094/1094 [==============================] - 52s 47ms/step - loss: 0.0213 - mse: 0.0213 - val_loss: 0.0061 - val_mse: 0.0061\n",
            "Epoch 9/40\n",
            "1094/1094 [==============================] - 51s 47ms/step - loss: 0.0204 - mse: 0.0204 - val_loss: 0.0062 - val_mse: 0.0062\n",
            "Epoch 10/40\n",
            "1094/1094 [==============================] - 51s 47ms/step - loss: 0.0210 - mse: 0.0210 - val_loss: 0.0051 - val_mse: 0.0051\n",
            "Epoch 11/40\n",
            "1094/1094 [==============================] - 51s 46ms/step - loss: 0.0214 - mse: 0.0214 - val_loss: 0.0041 - val_mse: 0.0041\n",
            "Epoch 12/40\n",
            "1094/1094 [==============================] - 51s 47ms/step - loss: 0.0213 - mse: 0.0213 - val_loss: 0.0048 - val_mse: 0.0048\n",
            "Epoch 13/40\n",
            "1094/1094 [==============================] - 51s 47ms/step - loss: 0.0199 - mse: 0.0199 - val_loss: 0.0047 - val_mse: 0.0047\n",
            "Epoch 14/40\n",
            "1094/1094 [==============================] - 51s 47ms/step - loss: 0.0194 - mse: 0.0194 - val_loss: 0.0043 - val_mse: 0.0043\n",
            "Epoch 15/40\n",
            "1094/1094 [==============================] - 51s 46ms/step - loss: 0.0190 - mse: 0.0190 - val_loss: 0.0055 - val_mse: 0.0055\n",
            "Epoch 16/40\n",
            "1094/1094 [==============================] - 50s 46ms/step - loss: 0.0194 - mse: 0.0194 - val_loss: 0.0049 - val_mse: 0.0049\n",
            "Epoch 17/40\n",
            "1094/1094 [==============================] - 50s 46ms/step - loss: 0.0204 - mse: 0.0204 - val_loss: 0.0048 - val_mse: 0.0048\n",
            "Epoch 18/40\n",
            "1094/1094 [==============================] - 51s 46ms/step - loss: 0.0203 - mse: 0.0203 - val_loss: 0.0042 - val_mse: 0.0042\n",
            "Epoch 19/40\n",
            "1094/1094 [==============================] - 50s 46ms/step - loss: 0.0196 - mse: 0.0196 - val_loss: 0.0055 - val_mse: 0.0055\n",
            "Epoch 20/40\n",
            "1094/1094 [==============================] - 51s 47ms/step - loss: 0.0215 - mse: 0.0215 - val_loss: 0.0039 - val_mse: 0.0039\n",
            "Epoch 21/40\n",
            "1094/1094 [==============================] - 51s 47ms/step - loss: 0.0197 - mse: 0.0197 - val_loss: 0.0043 - val_mse: 0.0043\n",
            "Epoch 22/40\n",
            "1094/1094 [==============================] - 51s 46ms/step - loss: 0.0191 - mse: 0.0191 - val_loss: 0.0043 - val_mse: 0.0043\n",
            "Epoch 23/40\n",
            "1094/1094 [==============================] - 51s 46ms/step - loss: 0.0199 - mse: 0.0199 - val_loss: 0.0039 - val_mse: 0.0039\n",
            "Epoch 24/40\n",
            "1094/1094 [==============================] - 51s 47ms/step - loss: 0.0188 - mse: 0.0188 - val_loss: 0.0041 - val_mse: 0.0041\n",
            "Epoch 25/40\n",
            "1094/1094 [==============================] - 52s 47ms/step - loss: 0.0185 - mse: 0.0185 - val_loss: 0.0043 - val_mse: 0.0043\n",
            "Epoch 26/40\n",
            "1094/1094 [==============================] - 51s 46ms/step - loss: 0.0200 - mse: 0.0200 - val_loss: 0.0039 - val_mse: 0.0039\n",
            "Epoch 27/40\n",
            "1094/1094 [==============================] - 51s 47ms/step - loss: 0.0188 - mse: 0.0188 - val_loss: 0.0039 - val_mse: 0.0039\n",
            "Epoch 28/40\n",
            "1094/1094 [==============================] - 51s 47ms/step - loss: 0.0197 - mse: 0.0197 - val_loss: 0.0042 - val_mse: 0.0042\n",
            "Epoch 29/40\n",
            "1094/1094 [==============================] - 51s 47ms/step - loss: 0.0192 - mse: 0.0192 - val_loss: 0.0044 - val_mse: 0.0044\n",
            "Epoch 30/40\n",
            "1094/1094 [==============================] - 51s 46ms/step - loss: 0.0198 - mse: 0.0198 - val_loss: 0.0046 - val_mse: 0.0046\n",
            "Epoch 31/40\n",
            "1094/1094 [==============================] - 51s 47ms/step - loss: 0.0189 - mse: 0.0189 - val_loss: 0.0045 - val_mse: 0.0045\n",
            "Epoch 32/40\n",
            "1094/1094 [==============================] - 51s 47ms/step - loss: 0.0192 - mse: 0.0192 - val_loss: 0.0039 - val_mse: 0.0039\n",
            "Epoch 33/40\n",
            "1094/1094 [==============================] - 51s 46ms/step - loss: 0.0197 - mse: 0.0197 - val_loss: 0.0039 - val_mse: 0.0039\n",
            "Epoch 34/40\n",
            "1094/1094 [==============================] - 51s 47ms/step - loss: 0.0193 - mse: 0.0193 - val_loss: 0.0039 - val_mse: 0.0039\n",
            "Epoch 35/40\n",
            "1094/1094 [==============================] - 51s 47ms/step - loss: 0.0193 - mse: 0.0193 - val_loss: 0.0038 - val_mse: 0.0038\n",
            "Epoch 36/40\n",
            "1094/1094 [==============================] - 52s 48ms/step - loss: 0.0204 - mse: 0.0204 - val_loss: 0.0040 - val_mse: 0.0040\n",
            "Epoch 37/40\n",
            "1094/1094 [==============================] - 51s 47ms/step - loss: 0.0195 - mse: 0.0195 - val_loss: 0.0036 - val_mse: 0.0036\n",
            "Epoch 38/40\n",
            "1094/1094 [==============================] - 51s 46ms/step - loss: 0.0197 - mse: 0.0197 - val_loss: 0.0040 - val_mse: 0.0040\n",
            "Epoch 39/40\n",
            "1094/1094 [==============================] - 51s 46ms/step - loss: 0.0198 - mse: 0.0198 - val_loss: 0.0037 - val_mse: 0.0037\n",
            "Epoch 40/40\n",
            "1094/1094 [==============================] - 51s 47ms/step - loss: 0.0192 - mse: 0.0192 - val_loss: 0.0039 - val_mse: 0.0039\n"
          ],
          "name": "stdout"
        }
      ]
    },
    {
      "cell_type": "markdown",
      "metadata": {
        "id": "Szqg4RnYH1-5"
      },
      "source": [
        "Visualize the model's training progress. "
      ]
    },
    {
      "cell_type": "code",
      "metadata": {
        "colab": {
          "base_uri": "https://localhost:8080/",
          "height": 404
        },
        "id": "7KBNnrJvIDek",
        "outputId": "0215d15f-ba8d-4088-c3b1-ab1be78eff80"
      },
      "source": [
        "plt.plot(hist.history['loss'])\n",
        "plt.plot(hist.history['val_loss'])\n",
        "plt.title('model loss')\n",
        "plt.ylabel('loss')\n",
        "plt.xlabel('epoch')\n",
        "plt.legend(['train', 'val'], loc='upper right')\n",
        "plt.show()"
      ],
      "execution_count": 152,
      "outputs": [
        {
          "output_type": "display_data",
          "data": {
            "image/png": "[encoded data removed]",
            "text/plain": [
              "<Figure size 576x432 with 1 Axes>"
            ]
          },
          "metadata": {
            "needs_background": "light"
          }
        }
      ]
    },
    {
      "cell_type": "code",
      "metadata": {
        "colab": {
          "base_uri": "https://localhost:8080/"
        },
        "id": "LO53cu6HbNpk",
        "outputId": "c2a9a29a-37a2-4097-db43-2b6ad04256d5"
      },
      "source": [
        "output_directory =   '/content/drive/MyDrive/Colab Notebooks/Seminar'  # Change to your directory\n",
        "model_path = output_directory + 'best_model.hdf5'\n",
        "model = keras.models.load_model(model_path)\n",
        "start_time = time.time()\n",
        "y_pred = model.predict(x_test)\n",
        "y_pred = y_pred.reshape(y_pred.shape[0], y_pred.shape[1])\n",
        "duration = time.time() - start_time\n",
        "duration"
      ],
      "execution_count": 153,
      "outputs": [
        {
          "output_type": "execute_result",
          "data": {
            "text/plain": [
              "1.7850852012634277"
            ]
          },
          "metadata": {},
          "execution_count": 153
        }
      ]
    },
    {
      "cell_type": "code",
      "metadata": {
        "id": "Z6v5r_xwdaCn"
      },
      "source": [
        "x_test_plt = x_test.reshape(x_test.shape[0], x_test.shape[1])"
      ],
      "execution_count": 154,
      "outputs": []
    },
    {
      "cell_type": "code",
      "metadata": {
        "colab": {
          "base_uri": "https://localhost:8080/"
        },
        "id": "IOZBKwlmc93_",
        "outputId": "e7f96312-845d-4ad1-c273-1f10b65a41e4"
      },
      "source": [
        "x_test_plt.shape"
      ],
      "execution_count": 155,
      "outputs": [
        {
          "output_type": "execute_result",
          "data": {
            "text/plain": [
              "(10000, 2)"
            ]
          },
          "metadata": {},
          "execution_count": 155
        }
      ]
    },
    {
      "cell_type": "code",
      "metadata": {
        "id": "H9QQo_LyN6nJ"
      },
      "source": [
        "x_test_plt_pos = x_test_plt[:,0]*train_std.to_numpy()[0] + train_mean.to_numpy()[0]\n",
        "x_test_plt_vel = x_test_plt[:,1]*train_std.to_numpy()[1] + train_mean.to_numpy()[1]\n",
        "y_pred = y_pred*train_std.to_numpy()[2] + train_mean.to_numpy()[2]"
      ],
      "execution_count": 156,
      "outputs": []
    },
    {
      "cell_type": "code",
      "metadata": {
        "colab": {
          "base_uri": "https://localhost:8080/"
        },
        "id": "Ckt0f2fuPCeA",
        "outputId": "4cdd236d-5ee1-48f5-f504-98524259a61a"
      },
      "source": [
        "y_pred.shape"
      ],
      "execution_count": 157,
      "outputs": [
        {
          "output_type": "execute_result",
          "data": {
            "text/plain": [
              "(10000, 2)"
            ]
          },
          "metadata": {},
          "execution_count": 157
        }
      ]
    },
    {
      "cell_type": "code",
      "metadata": {
        "colab": {
          "base_uri": "https://localhost:8080/",
          "height": 278
        },
        "id": "1dNMrBsgchdG",
        "outputId": "5dda6865-abf1-49ff-807a-713c6558ff33"
      },
      "source": [
        "plt.figure(figsize=(6,4))\n",
        "plt.plot(x_test_plt_pos, y_pred[:,0], label='Measured')\n",
        "#plt.plot(x_test_plt_vel, y_pred[:,0], label='Measured')\n",
        "plt.plot(x_test_plt_pos, y_pred[:,1], label='Prediction')\n",
        "#plt.plot(x_test_plt_vel, y_pred[:,1], label='Prediction')\n",
        "#plt.xlabel('Velocity [rad/s]')\n",
        "plt.xlabel('Position [rad]')\n",
        "plt.ylabel('Friction [Nm]')\n",
        "plt.legend(shadow=True, fancybox=True)\n",
        "plt.savefig('ResNetTrained.png')\n",
        "#plt.savefig('Output.png')"
      ],
      "execution_count": 158,
      "outputs": [
        {
          "output_type": "display_data",
          "data": {
            "image/png": "[encoded data removed]",
            "text/plain": [
              "<Figure size 432x288 with 1 Axes>"
            ]
          },
          "metadata": {
            "needs_background": "light"
          }
        }
      ]
    }
  ]
}